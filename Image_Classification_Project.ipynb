{
  "nbformat": 4,
  "nbformat_minor": 0,
  "metadata": {
    "colab": {
      "name": "Image Classification Project.ipynb",
      "provenance": [],
      "mount_file_id": "1rXmli7sBLQ3dSPglpWM6z7ljhQzzOffs",
      "authorship_tag": "ABX9TyP5hv6ziJ9EREEEQtImIgJQ",
      "include_colab_link": true
    },
    "kernelspec": {
      "name": "python3",
      "display_name": "Python 3"
    },
    "language_info": {
      "name": "python"
    }
  },
  "cells": [
    {
      "cell_type": "markdown",
      "metadata": {
        "id": "view-in-github",
        "colab_type": "text"
      },
      "source": [
        "<a href=\"https://colab.research.google.com/github/dhruvdev30/DS-MINOR-APRIL/blob/main/Image_Classification_Project.ipynb\" target=\"_parent\"><img src=\"https://colab.research.google.com/assets/colab-badge.svg\" alt=\"Open In Colab\"/></a>"
      ]
    },
    {
      "cell_type": "code",
      "metadata": {
        "colab": {
          "base_uri": "https://localhost:8080/"
        },
        "id": "WdoVc-0rW10o",
        "outputId": "27c21805-a584-4c70-d7f8-ba923d619eeb"
      },
      "source": [
        "!pip install ipython-autotime\n",
        "%load_ext autotime"
      ],
      "execution_count": 1,
      "outputs": [
        {
          "output_type": "stream",
          "text": [
            "Collecting ipython-autotime\n",
            "  Downloading https://files.pythonhosted.org/packages/b4/c9/b413a24f759641bc27ef98c144b590023c8038dfb8a3f09e713e9dff12c1/ipython_autotime-0.3.1-py2.py3-none-any.whl\n",
            "Requirement already satisfied: ipython in /usr/local/lib/python3.7/dist-packages (from ipython-autotime) (5.5.0)\n",
            "Requirement already satisfied: setuptools>=18.5 in /usr/local/lib/python3.7/dist-packages (from ipython->ipython-autotime) (56.1.0)\n",
            "Requirement already satisfied: prompt-toolkit<2.0.0,>=1.0.4 in /usr/local/lib/python3.7/dist-packages (from ipython->ipython-autotime) (1.0.18)\n",
            "Requirement already satisfied: pexpect; sys_platform != \"win32\" in /usr/local/lib/python3.7/dist-packages (from ipython->ipython-autotime) (4.8.0)\n",
            "Requirement already satisfied: simplegeneric>0.8 in /usr/local/lib/python3.7/dist-packages (from ipython->ipython-autotime) (0.8.1)\n",
            "Requirement already satisfied: pygments in /usr/local/lib/python3.7/dist-packages (from ipython->ipython-autotime) (2.6.1)\n",
            "Requirement already satisfied: pickleshare in /usr/local/lib/python3.7/dist-packages (from ipython->ipython-autotime) (0.7.5)\n",
            "Requirement already satisfied: traitlets>=4.2 in /usr/local/lib/python3.7/dist-packages (from ipython->ipython-autotime) (5.0.5)\n",
            "Requirement already satisfied: decorator in /usr/local/lib/python3.7/dist-packages (from ipython->ipython-autotime) (4.4.2)\n",
            "Requirement already satisfied: wcwidth in /usr/local/lib/python3.7/dist-packages (from prompt-toolkit<2.0.0,>=1.0.4->ipython->ipython-autotime) (0.2.5)\n",
            "Requirement already satisfied: six>=1.9.0 in /usr/local/lib/python3.7/dist-packages (from prompt-toolkit<2.0.0,>=1.0.4->ipython->ipython-autotime) (1.15.0)\n",
            "Requirement already satisfied: ptyprocess>=0.5 in /usr/local/lib/python3.7/dist-packages (from pexpect; sys_platform != \"win32\"->ipython->ipython-autotime) (0.7.0)\n",
            "Requirement already satisfied: ipython-genutils in /usr/local/lib/python3.7/dist-packages (from traitlets>=4.2->ipython->ipython-autotime) (0.2.0)\n",
            "Installing collected packages: ipython-autotime\n",
            "Successfully installed ipython-autotime-0.3.1\n",
            "time: 2.26 ms (started: 2021-05-24 12:31:34 +00:00)\n"
          ],
          "name": "stdout"
        }
      ]
    },
    {
      "cell_type": "code",
      "metadata": {
        "id": "NWo-WcwREuyg",
        "colab": {
          "base_uri": "https://localhost:8080/"
        },
        "outputId": "d5a9ea63-c33d-48ce-971e-f87ed92ba8f7"
      },
      "source": [
        "# Data : Images \n",
        "# 1. Download images from Google\n",
        "# 2. Download data sets from Kahggle.com\n",
        "# 3. Build a image Web Crawler\n",
        "# 4. Use Python Libraries to scrape the images (Using)"
      ],
      "execution_count": 3,
      "outputs": [
        {
          "output_type": "stream",
          "text": [
            "time: 1.45 ms (started: 2021-05-24 12:32:41 +00:00)\n"
          ],
          "name": "stdout"
        }
      ]
    },
    {
      "cell_type": "code",
      "metadata": {
        "colab": {
          "base_uri": "https://localhost:8080/"
        },
        "id": "5qns7C4JXQH_",
        "outputId": "658a9f69-bdfa-4567-97dc-175a4048c465"
      },
      "source": [
        "!pip install bing-image-downloader"
      ],
      "execution_count": 4,
      "outputs": [
        {
          "output_type": "stream",
          "text": [
            "Collecting bing-image-downloader\n",
            "  Downloading https://files.pythonhosted.org/packages/0d/bf/537a61030b84ae4cd5022d5c7b014fd9bc3ce7c02358919153a6658a61d3/bing_image_downloader-1.0.4-py3-none-any.whl\n",
            "Installing collected packages: bing-image-downloader\n",
            "Successfully installed bing-image-downloader-1.0.4\n",
            "time: 3.34 s (started: 2021-05-24 12:32:53 +00:00)\n"
          ],
          "name": "stdout"
        }
      ]
    },
    {
      "cell_type": "code",
      "metadata": {
        "colab": {
          "base_uri": "https://localhost:8080/"
        },
        "id": "w_dEFTpCXSCh",
        "outputId": "2738e0ae-f986-4798-bc93-2907363c0486"
      },
      "source": [
        "!mkdir images"
      ],
      "execution_count": 7,
      "outputs": [
        {
          "output_type": "stream",
          "text": [
            "time: 112 ms (started: 2021-05-24 12:33:38 +00:00)\n"
          ],
          "name": "stdout"
        }
      ]
    },
    {
      "cell_type": "code",
      "metadata": {
        "colab": {
          "base_uri": "https://localhost:8080/"
        },
        "id": "OvgCa86MgzOz",
        "outputId": "8fd09a78-7aec-4811-fdd6-b7c9b96ba07e"
      },
      "source": [
        "from bing_image_downloader import downloader\n",
        "downloader.download(\"cruise ships\",limit=30,output_dir=\"images\",adult_filter_off=True)"
      ],
      "execution_count": 43,
      "outputs": [
        {
          "output_type": "stream",
          "text": [
            "\n",
            "\n",
            "[!!]Indexing page: 1\n",
            "\n",
            "[%] Indexed 10 Images on Page 1.\n",
            "\n",
            "===============================================\n",
            "\n",
            "[%] Downloading Image #1 from http://2.bp.blogspot.com/-H1gRiceh1PM/VI4_zfeC9XI/AAAAAAAAq3M/7Dpx88XOjro/s1600/P1010601.jpg\n",
            "[%] File Downloaded !\n",
            "\n",
            "[%] Downloading Image #2 from http://www.kamaxi.com/WP/wp-content/uploads/2018/02/Cruise_Ship_than__Now-1.jpg\n",
            "[%] File Downloaded !\n",
            "\n",
            "[%] Downloading Image #3 from https://i.dailymail.co.uk/i/pix/2015/06/25/03/29F29A0200000578-3138437-image-a-24_1435198595210.jpg\n",
            "[Error]Invalid image, not saving https://i.dailymail.co.uk/i/pix/2015/06/25/03/29F29A0200000578-3138437-image-a-24_1435198595210.jpg\n",
            "\n",
            "[!] Issue getting: https://i.dailymail.co.uk/i/pix/2015/06/25/03/29F29A0200000578-3138437-image-a-24_1435198595210.jpg\n",
            "[!] Error:: No active exception to reraise\n",
            "[%] Downloading Image #3 from https://d.ibtimes.co.uk/en/full/432834/freedom-ship-10-billion-floating-city-super-rich.jpg\n",
            "[%] File Downloaded !\n",
            "\n",
            "[%] Downloading Image #4 from https://cdn.architecturendesign.net/wp-content/uploads/2016/05/AD-Its-The-Biggest-Cruise-Ship-Ever-Built-Harmony-CoverImage.jpg\n",
            "[%] File Downloaded !\n",
            "\n",
            "[%] Downloading Image #5 from http://tildenphotography.com/images/weddings-cruise-ship-2-lg.jpg\n",
            "[%] File Downloaded !\n",
            "\n",
            "[%] Downloading Image #6 from https://cdn-blog.adafruit.com/uploads/2017/07/time-lapse-cruise-ship-construct.jpg\n",
            "[%] File Downloaded !\n",
            "\n",
            "[%] Downloading Image #7 from http://luxurylaunches.com/wp-content/uploads/2014/10/most-luxurious-cruise-ship-cabin.jpg\n",
            "[%] File Downloaded !\n",
            "\n",
            "[%] Downloading Image #8 from https://i.ytimg.com/vi/uL5NCsBzCtM/maxresdefault.jpg\n",
            "[%] File Downloaded !\n",
            "\n",
            "[%] Downloading Image #9 from https://www.insideedition.com/sites/default/files/images/2018-05/050718-cruiseship-1280x720.jpg\n",
            "[%] File Downloaded !\n",
            "\n",
            "\n",
            "\n",
            "[!!]Indexing page: 2\n",
            "\n",
            "[%] Indexed 10 Images on Page 2.\n",
            "\n",
            "===============================================\n",
            "\n",
            "[%] Downloading Image #10 from http://2.bp.blogspot.com/-H1gRiceh1PM/VI4_zfeC9XI/AAAAAAAAq3M/7Dpx88XOjro/s1600/P1010601.jpg\n",
            "[%] File Downloaded !\n",
            "\n",
            "[%] Downloading Image #11 from http://www.kamaxi.com/WP/wp-content/uploads/2018/02/Cruise_Ship_than__Now-1.jpg\n",
            "[%] File Downloaded !\n",
            "\n",
            "[%] Downloading Image #12 from https://i.dailymail.co.uk/i/pix/2015/06/25/03/29F29A0200000578-3138437-image-a-24_1435198595210.jpg\n",
            "[Error]Invalid image, not saving https://i.dailymail.co.uk/i/pix/2015/06/25/03/29F29A0200000578-3138437-image-a-24_1435198595210.jpg\n",
            "\n",
            "[!] Issue getting: https://i.dailymail.co.uk/i/pix/2015/06/25/03/29F29A0200000578-3138437-image-a-24_1435198595210.jpg\n",
            "[!] Error:: No active exception to reraise\n",
            "[%] Downloading Image #12 from https://d.ibtimes.co.uk/en/full/432834/freedom-ship-10-billion-floating-city-super-rich.jpg\n",
            "[%] File Downloaded !\n",
            "\n",
            "[%] Downloading Image #13 from https://cdn.architecturendesign.net/wp-content/uploads/2016/05/AD-Its-The-Biggest-Cruise-Ship-Ever-Built-Harmony-CoverImage.jpg\n",
            "[%] File Downloaded !\n",
            "\n",
            "[%] Downloading Image #14 from http://tildenphotography.com/images/weddings-cruise-ship-2-lg.jpg\n",
            "[%] File Downloaded !\n",
            "\n",
            "[%] Downloading Image #15 from https://cdn-blog.adafruit.com/uploads/2017/07/time-lapse-cruise-ship-construct.jpg\n",
            "[%] File Downloaded !\n",
            "\n",
            "[%] Downloading Image #16 from http://luxurylaunches.com/wp-content/uploads/2014/10/most-luxurious-cruise-ship-cabin.jpg\n",
            "[%] File Downloaded !\n",
            "\n",
            "[%] Downloading Image #17 from https://i.ytimg.com/vi/uL5NCsBzCtM/maxresdefault.jpg\n",
            "[%] File Downloaded !\n",
            "\n",
            "[%] Downloading Image #18 from https://www.insideedition.com/sites/default/files/images/2018-05/050718-cruiseship-1280x720.jpg\n",
            "[%] File Downloaded !\n",
            "\n",
            "\n",
            "\n",
            "[!!]Indexing page: 3\n",
            "\n",
            "[%] Indexed 9 Images on Page 3.\n",
            "\n",
            "===============================================\n",
            "\n",
            "[%] Downloading Image #19 from https://www.thestar.com/content/dam/thestar/business/2015/08/20/global-sales-lift-mid-sized-companys-performance/lifts-cruise-ship.jpg\n",
            "[%] File Downloaded !\n",
            "\n",
            "[%] Downloading Image #20 from http://www.gannett-cdn.com/-mm-/a9b259ba8a416713ab186fb5d7a77bcb803216c2/c=0-48-680-432&amp;r=x633&amp;c=1200x630/local/-/media/USATODAY/test/2013/08/21/1377122854000-Cunard.jpg\n",
            "[%] File Downloaded !\n",
            "\n",
            "[%] Downloading Image #21 from https://www.explo-re.com/wp-content/uploads/2017/06/MSC-Magnifica.jpg\n",
            "[%] File Downloaded !\n",
            "\n",
            "[%] Downloading Image #22 from http://directlinecruises.com/images/shipimages-magicbox/rccl-allure/RCI_AL-Boardwalk01.jpg\n",
            "[%] File Downloaded !\n",
            "\n",
            "[%] Downloading Image #23 from https://s.abcnews.com/images/US/AP_cruise_ship_kab_150120_16x9_992.jpg\n",
            "[%] File Downloaded !\n",
            "\n",
            "[%] Downloading Image #24 from https://blog.shoreexcursionsgroup.com/wp-content/uploads/2014/10/Movies-on-Cruise-Ships.jpg\n",
            "[%] File Downloaded !\n",
            "\n",
            "[%] Downloading Image #25 from http://i.ytimg.com/vi/6k70Cy6UW_A/hqdefault.jpg\n",
            "[%] File Downloaded !\n",
            "\n",
            "[%] Downloading Image #26 from https://i.ytimg.com/vi/AcUxcQ8MCZw/maxresdefault.jpg\n",
            "[%] File Downloaded !\n",
            "\n",
            "[%] Downloading Image #27 from https://i.ytimg.com/vi/zs1AyG-1qRM/maxresdefault.jpg\n",
            "[%] File Downloaded !\n",
            "\n",
            "\n",
            "\n",
            "[!!]Indexing page: 4\n",
            "\n",
            "[%] Indexed 8 Images on Page 4.\n",
            "\n",
            "===============================================\n",
            "\n",
            "[%] Downloading Image #28 from https://i.dailymail.co.uk/i/pix/2015/06/25/03/29F29A0200000578-3138437-image-a-24_1435198595210.jpg\n",
            "[Error]Invalid image, not saving https://i.dailymail.co.uk/i/pix/2015/06/25/03/29F29A0200000578-3138437-image-a-24_1435198595210.jpg\n",
            "\n",
            "[!] Issue getting: https://i.dailymail.co.uk/i/pix/2015/06/25/03/29F29A0200000578-3138437-image-a-24_1435198595210.jpg\n",
            "[!] Error:: No active exception to reraise\n",
            "[%] Downloading Image #28 from https://d.ibtimes.co.uk/en/full/432834/freedom-ship-10-billion-floating-city-super-rich.jpg\n",
            "[%] File Downloaded !\n",
            "\n",
            "[%] Downloading Image #29 from https://cdn.architecturendesign.net/wp-content/uploads/2016/05/AD-Its-The-Biggest-Cruise-Ship-Ever-Built-Harmony-CoverImage.jpg\n",
            "[%] File Downloaded !\n",
            "\n",
            "[%] Downloading Image #30 from http://tildenphotography.com/images/weddings-cruise-ship-2-lg.jpg\n",
            "[%] File Downloaded !\n",
            "\n",
            "\n",
            "\n",
            "[%] Done. Downloaded 30 images.\n",
            "\n",
            "===============================================\n",
            "\n",
            "time: 32.4 s (started: 2021-05-24 13:15:03 +00:00)\n"
          ],
          "name": "stdout"
        }
      ]
    },
    {
      "cell_type": "code",
      "metadata": {
        "colab": {
          "base_uri": "https://localhost:8080/"
        },
        "id": "8KZgXiX2XlOc",
        "outputId": "b171c59f-537c-495f-9fd4-6a4ea58738cf"
      },
      "source": [
        "downloader.download(\"cars\",limit=30,output_dir=\"images\",adult_filter_off=True)"
      ],
      "execution_count": 44,
      "outputs": [
        {
          "output_type": "stream",
          "text": [
            "\n",
            "\n",
            "[!!]Indexing page: 1\n",
            "\n",
            "[%] Indexed 10 Images on Page 1.\n",
            "\n",
            "===============================================\n",
            "\n",
            "[%] Downloading Image #1 from https://wallpapershome.com/images/wallpapers/bugatti-divo-1080x1920-2019-cars-supercar-4k-20167.jpg\n",
            "[%] File Downloaded !\n",
            "\n",
            "[%] Downloading Image #2 from http://naibuzz.com/wp-content/uploads/2015/12/12132943_1157732880921787_1841992424_n.jpg\n",
            "[%] File Downloaded !\n",
            "\n",
            "[%] Downloading Image #3 from https://www.hdwallpapers.in/download/tesla_model_s_white-1366x768.jpg\n",
            "[%] File Downloaded !\n",
            "\n",
            "[%] Downloading Image #4 from https://www.hdwallpapers.in/download/cars_3_4k_5k-1080x1920.jpg\n",
            "[%] File Downloaded !\n",
            "\n",
            "[%] Downloading Image #5 from http://media.idownloadblog.com/wp-content/uploads/2015/03/Supercar-Ferrari.png\n",
            "[%] File Downloaded !\n",
            "\n",
            "[%] Downloading Image #6 from http://www.worldwar2headquarters.com/images/museums/utah-state-railroad/train-bathroom-toilet.jpg\n",
            "[%] File Downloaded !\n",
            "\n",
            "[%] Downloading Image #7 from https://wallpapershome.com/images/wallpapers/dodge-challenger-srt-demon-720x1280-red-2017-new-york-auto-show-13357.jpg\n",
            "[%] File Downloaded !\n",
            "\n",
            "[%] Downloading Image #8 from https://www.007james.com/i/gadgets/aston-martin-db5/smoke-screen.jpg\n",
            "[%] File Downloaded !\n",
            "\n",
            "[%] Downloading Image #9 from https://wallpapershome.com/images/wallpapers/rivian-r1t-1080x1920-interior-suv-electric-cars-4k-20950.jpeg\n",
            "[%] File Downloaded !\n",
            "\n",
            "[%] Downloading Image #10 from https://thumbs.dreamstime.com/x/sexy-woman-cleaning-car-19896228.jpg\n",
            "[%] File Downloaded !\n",
            "\n",
            "\n",
            "\n",
            "[!!]Indexing page: 2\n",
            "\n",
            "[%] Indexed 10 Images on Page 2.\n",
            "\n",
            "===============================================\n",
            "\n",
            "[%] Downloading Image #11 from https://wallpapershome.com/images/wallpapers/bugatti-divo-1080x1920-2019-cars-supercar-4k-20167.jpg\n",
            "[%] File Downloaded !\n",
            "\n",
            "[%] Downloading Image #12 from http://naibuzz.com/wp-content/uploads/2015/12/12132943_1157732880921787_1841992424_n.jpg\n",
            "[%] File Downloaded !\n",
            "\n",
            "[%] Downloading Image #13 from https://www.hdwallpapers.in/download/tesla_model_s_white-1366x768.jpg\n",
            "[%] File Downloaded !\n",
            "\n",
            "[%] Downloading Image #14 from https://www.hdwallpapers.in/download/cars_3_4k_5k-1080x1920.jpg\n",
            "[%] File Downloaded !\n",
            "\n",
            "[%] Downloading Image #15 from http://media.idownloadblog.com/wp-content/uploads/2015/03/Supercar-Ferrari.png\n",
            "[%] File Downloaded !\n",
            "\n",
            "[%] Downloading Image #16 from http://www.worldwar2headquarters.com/images/museums/utah-state-railroad/train-bathroom-toilet.jpg\n",
            "[%] File Downloaded !\n",
            "\n",
            "[%] Downloading Image #17 from https://wallpapershome.com/images/wallpapers/dodge-challenger-srt-demon-720x1280-red-2017-new-york-auto-show-13357.jpg\n",
            "[%] File Downloaded !\n",
            "\n",
            "[%] Downloading Image #18 from https://www.007james.com/i/gadgets/aston-martin-db5/smoke-screen.jpg\n",
            "[%] File Downloaded !\n",
            "\n",
            "[%] Downloading Image #19 from https://wallpapershome.com/images/wallpapers/rivian-r1t-1080x1920-interior-suv-electric-cars-4k-20950.jpeg\n",
            "[%] File Downloaded !\n",
            "\n",
            "[%] Downloading Image #20 from https://thumbs.dreamstime.com/x/sexy-woman-cleaning-car-19896228.jpg\n",
            "[%] File Downloaded !\n",
            "\n",
            "\n",
            "\n",
            "[!!]Indexing page: 3\n",
            "\n",
            "[%] Indexed 9 Images on Page 3.\n",
            "\n",
            "===============================================\n",
            "\n",
            "[%] Downloading Image #21 from https://www.hdwallpapers.in/download/tesla_model_s_white-1366x768.jpg\n",
            "[%] File Downloaded !\n",
            "\n",
            "[%] Downloading Image #22 from http://naibuzz.com/wp-content/uploads/2015/12/12132943_1157732880921787_1841992424_n.jpg\n",
            "[%] File Downloaded !\n",
            "\n",
            "[%] Downloading Image #23 from http://www.worldwar2headquarters.com/images/museums/utah-state-railroad/train-bathroom-toilet.jpg\n",
            "[%] File Downloaded !\n",
            "\n",
            "[%] Downloading Image #24 from http://media.idownloadblog.com/wp-content/uploads/2015/03/Supercar-Ferrari.png\n",
            "[%] File Downloaded !\n",
            "\n",
            "[%] Downloading Image #25 from https://www.007james.com/i/gadgets/aston-martin-db5/smoke-screen.jpg\n",
            "[%] File Downloaded !\n",
            "\n",
            "[%] Downloading Image #26 from https://wallpapershome.com/images/wallpapers/dodge-challenger-srt-demon-720x1280-red-2017-new-york-auto-show-13357.jpg\n",
            "[%] File Downloaded !\n",
            "\n",
            "[%] Downloading Image #27 from https://thumbs.dreamstime.com/x/sexy-woman-cleaning-car-19896228.jpg\n",
            "[%] File Downloaded !\n",
            "\n",
            "[%] Downloading Image #28 from https://wallpapershome.com/images/wallpapers/rivian-r1t-1080x1920-interior-suv-electric-cars-4k-20950.jpeg\n",
            "[%] File Downloaded !\n",
            "\n",
            "[%] Downloading Image #29 from https://www.hdwallpapers.in/download/cars_3_4k_5k-1080x1920.jpg\n",
            "[%] File Downloaded !\n",
            "\n",
            "\n",
            "\n",
            "[!!]Indexing page: 4\n",
            "\n",
            "[%] Indexed 8 Images on Page 4.\n",
            "\n",
            "===============================================\n",
            "\n",
            "[%] Downloading Image #30 from http://media.idownloadblog.com/wp-content/uploads/2015/03/Supercar-Ferrari.png\n",
            "[%] File Downloaded !\n",
            "\n",
            "\n",
            "\n",
            "[%] Done. Downloaded 30 images.\n",
            "\n",
            "===============================================\n",
            "\n",
            "time: 41.1 s (started: 2021-05-24 13:37:50 +00:00)\n"
          ],
          "name": "stdout"
        }
      ]
    },
    {
      "cell_type": "code",
      "metadata": {
        "colab": {
          "base_uri": "https://localhost:8080/"
        },
        "id": "3LuPwsFuXreV",
        "outputId": "65bf9f32-a164-4a4c-bd79-919088f00cd4"
      },
      "source": [
        "downloader.download(\"dogs\",limit=30,output_dir=\"images\",adult_filter_off=True)"
      ],
      "execution_count": 45,
      "outputs": [
        {
          "output_type": "stream",
          "text": [
            "\n",
            "\n",
            "[!!]Indexing page: 1\n",
            "\n",
            "[%] Indexed 10 Images on Page 1.\n",
            "\n",
            "===============================================\n",
            "\n",
            "[%] Downloading Image #1 from https://www.seenox.org/wp-content/uploads/2014/03/Naughty-Dogs-19.jpg\n",
            "[%] File Downloaded !\n",
            "\n",
            "[%] Downloading Image #2 from https://www.candogseat-this.com/wp-content/uploads/2014/11/thanksgiving-dog.jpg\n",
            "[%] File Downloaded !\n",
            "\n",
            "[%] Downloading Image #3 from https://www.rocketdogrescue.org/wp-content/uploads/2017/10/Teacup-e1507409417653.jpg\n",
            "[%] File Downloaded !\n",
            "\n",
            "[%] Downloading Image #4 from https://www.doseoffunny.com/wp-content/uploads/2014/07/dogs-stung-bees-pictures-2.jpg\n",
            "[%] File Downloaded !\n",
            "\n",
            "[%] Downloading Image #5 from http://www.newslinq.com/wp-content/uploads/2015/03/DogShaming18.jpg\n",
            "[%] File Downloaded !\n",
            "\n",
            "[%] Downloading Image #6 from https://www.candogseat-this.com/wp-content/uploads/2014/11/thanksgiving-dog-hat.jpeg\n",
            "[%] File Downloaded !\n",
            "\n",
            "[%] Downloading Image #7 from https://www.dogvills.com/wp-content/uploads/2016/04/FUN-FACTS-YOU-DIDNT-KNOW-ABOUT-GREYHOUNDS-e1460041058255.jpg\n",
            "[%] File Downloaded !\n",
            "\n",
            "[%] Downloading Image #8 from https://www.hdwallpapers.in/download/watch_dogs_legion_4k_8k-1080x1920.jpg\n",
            "[%] File Downloaded !\n",
            "\n",
            "[%] Downloading Image #9 from https://ddrguarddogs.com/wp-content/uploads/2017/05/8ECD8186-235B-4117-A9D5-8B9846A5923B-767x1030.jpeg\n",
            "[%] File Downloaded !\n",
            "\n",
            "[%] Downloading Image #10 from http://www.hdwallpapers.in/download/watch_dogs_aiden_pearce-1366x768.jpg\n",
            "[%] File Downloaded !\n",
            "\n",
            "\n",
            "\n",
            "[!!]Indexing page: 2\n",
            "\n",
            "[%] Indexed 10 Images on Page 2.\n",
            "\n",
            "===============================================\n",
            "\n",
            "[%] Downloading Image #11 from https://www.seenox.org/wp-content/uploads/2014/03/Naughty-Dogs-19.jpg\n",
            "[%] File Downloaded !\n",
            "\n",
            "[%] Downloading Image #12 from https://www.candogseat-this.com/wp-content/uploads/2014/11/thanksgiving-dog.jpg\n",
            "[%] File Downloaded !\n",
            "\n",
            "[%] Downloading Image #13 from https://www.rocketdogrescue.org/wp-content/uploads/2017/10/Teacup-e1507409417653.jpg\n",
            "[%] File Downloaded !\n",
            "\n",
            "[%] Downloading Image #14 from https://www.doseoffunny.com/wp-content/uploads/2014/07/dogs-stung-bees-pictures-2.jpg\n",
            "[%] File Downloaded !\n",
            "\n",
            "[%] Downloading Image #15 from http://www.newslinq.com/wp-content/uploads/2015/03/DogShaming18.jpg\n",
            "[%] File Downloaded !\n",
            "\n",
            "[%] Downloading Image #16 from https://www.candogseat-this.com/wp-content/uploads/2014/11/thanksgiving-dog-hat.jpeg\n",
            "[%] File Downloaded !\n",
            "\n",
            "[%] Downloading Image #17 from https://www.dogvills.com/wp-content/uploads/2016/04/FUN-FACTS-YOU-DIDNT-KNOW-ABOUT-GREYHOUNDS-e1460041058255.jpg\n",
            "[%] File Downloaded !\n",
            "\n",
            "[%] Downloading Image #18 from https://www.hdwallpapers.in/download/watch_dogs_legion_4k_8k-1080x1920.jpg\n",
            "[%] File Downloaded !\n",
            "\n",
            "[%] Downloading Image #19 from https://ddrguarddogs.com/wp-content/uploads/2017/05/8ECD8186-235B-4117-A9D5-8B9846A5923B-767x1030.jpeg\n",
            "[%] File Downloaded !\n",
            "\n",
            "[%] Downloading Image #20 from http://www.hdwallpapers.in/download/watch_dogs_aiden_pearce-1366x768.jpg\n",
            "[%] File Downloaded !\n",
            "\n",
            "\n",
            "\n",
            "[!!]Indexing page: 3\n",
            "\n",
            "[%] Indexed 9 Images on Page 3.\n",
            "\n",
            "===============================================\n",
            "\n",
            "[%] Downloading Image #21 from https://www.rocketdogrescue.org/wp-content/uploads/2017/10/Teacup-e1507409417653.jpg\n",
            "[%] File Downloaded !\n",
            "\n",
            "[%] Downloading Image #22 from https://www.candogseat-this.com/wp-content/uploads/2014/11/thanksgiving-dog-hat.jpeg\n",
            "[%] File Downloaded !\n",
            "\n",
            "[%] Downloading Image #23 from http://www.newslinq.com/wp-content/uploads/2015/03/DogShaming18.jpg\n",
            "[%] File Downloaded !\n",
            "\n",
            "[%] Downloading Image #24 from http://www.hdwallpapers.in/download/watch_dogs_aiden_pearce-1366x768.jpg\n",
            "[%] File Downloaded !\n",
            "\n",
            "[%] Downloading Image #25 from https://www.dogvills.com/wp-content/uploads/2016/04/FUN-FACTS-YOU-DIDNT-KNOW-ABOUT-GREYHOUNDS-e1460041058255.jpg\n",
            "[%] File Downloaded !\n",
            "\n",
            "[%] Downloading Image #26 from https://ddrguarddogs.com/wp-content/uploads/2017/05/8ECD8186-235B-4117-A9D5-8B9846A5923B-767x1030.jpeg\n",
            "[%] File Downloaded !\n",
            "\n",
            "[%] Downloading Image #27 from https://www.candogseat-this.com/wp-content/uploads/2014/11/thanksgiving-dog.jpg\n",
            "[%] File Downloaded !\n",
            "\n",
            "[%] Downloading Image #28 from https://www.doseoffunny.com/wp-content/uploads/2014/07/dogs-stung-bees-pictures-2.jpg\n",
            "[%] File Downloaded !\n",
            "\n",
            "[%] Downloading Image #29 from https://www.hdwallpapers.in/download/watch_dogs_legion_4k_8k-1080x1920.jpg\n",
            "[%] File Downloaded !\n",
            "\n",
            "\n",
            "\n",
            "[!!]Indexing page: 4\n",
            "\n",
            "[%] Indexed 8 Images on Page 4.\n",
            "\n",
            "===============================================\n",
            "\n",
            "[%] Downloading Image #30 from http://www.newslinq.com/wp-content/uploads/2015/03/DogShaming18.jpg\n",
            "[%] File Downloaded !\n",
            "\n",
            "\n",
            "\n",
            "[%] Done. Downloaded 30 images.\n",
            "\n",
            "===============================================\n",
            "\n",
            "time: 20.1 s (started: 2021-05-24 13:38:31 +00:00)\n"
          ],
          "name": "stdout"
        }
      ]
    },
    {
      "cell_type": "code",
      "metadata": {
        "colab": {
          "base_uri": "https://localhost:8080/"
        },
        "id": "qigYfoENXwRx",
        "outputId": "2d5d775e-7654-4128-b2df-02d783e579ae"
      },
      "source": [
        "# Data gathering part has been completed"
      ],
      "execution_count": 11,
      "outputs": [
        {
          "output_type": "stream",
          "text": [
            "time: 674 µs (started: 2021-05-24 12:35:35 +00:00)\n"
          ],
          "name": "stdout"
        }
      ]
    },
    {
      "cell_type": "code",
      "metadata": {
        "colab": {
          "base_uri": "https://localhost:8080/"
        },
        "id": "v8vvif-zX5fj",
        "outputId": "f3b565cf-3be0-43e6-a75a-fed694f30120"
      },
      "source": [
        "import numpy as np\n",
        "\n",
        "a = np.array([[1,2,3,4,5],\n",
        "             [4,5,6,7,8]])\n",
        "a.ndim"
      ],
      "execution_count": 12,
      "outputs": [
        {
          "output_type": "execute_result",
          "data": {
            "text/plain": [
              "2"
            ]
          },
          "metadata": {
            "tags": []
          },
          "execution_count": 12
        },
        {
          "output_type": "stream",
          "text": [
            "time: 11 ms (started: 2021-05-24 12:35:42 +00:00)\n"
          ],
          "name": "stdout"
        }
      ]
    },
    {
      "cell_type": "code",
      "metadata": {
        "colab": {
          "base_uri": "https://localhost:8080/"
        },
        "id": "g-SwRUL9X7PS",
        "outputId": "f6d537aa-4fd8-405a-e918-dcd3b6a113c2"
      },
      "source": [
        "# How to convert Matrix to Vector? : using the flatten()\n",
        "a.flatten()"
      ],
      "execution_count": 13,
      "outputs": [
        {
          "output_type": "execute_result",
          "data": {
            "text/plain": [
              "array([1, 2, 3, 4, 5, 4, 5, 6, 7, 8])"
            ]
          },
          "metadata": {
            "tags": []
          },
          "execution_count": 13
        },
        {
          "output_type": "stream",
          "text": [
            "time: 10.7 ms (started: 2021-05-24 12:35:49 +00:00)\n"
          ],
          "name": "stdout"
        }
      ]
    },
    {
      "cell_type": "code",
      "metadata": {
        "colab": {
          "base_uri": "https://localhost:8080/"
        },
        "id": "pq-rDHhvX8-d",
        "outputId": "259d04f4-4fd3-41ac-b2e0-83ce1edb2dce"
      },
      "source": [
        "# Preprocessing\n",
        "# 1. Resize\n",
        "# 2. Flatten\n",
        "\n",
        "import os\n",
        "import matplotlib.pyplot as plt\n",
        "import numpy as np\n",
        "from skimage.io import imread\n",
        "from skimage.transform import resize\n",
        "\n",
        "target = []\n",
        "images = []\n",
        "flat_data = []\n",
        "\n",
        "DATADIR = '/content/drive/MyDrive/image_set'\n",
        "CATEGORIES = ['cars','dogs','ships']\n",
        "\n",
        "for category in CATEGORIES:\n",
        "  #print(category)\n",
        "  class_num = CATEGORIES.index(category)  # Label encoding the values\n",
        "  #print(class_num)\n",
        "  path = os.path.join(DATADIR,category)   # Path creater to use all the images\n",
        "  #print(path)\n",
        "  for img in os.listdir(path):\n",
        "    img_array = imread(os.path.join(path,img))\n",
        "    #print(img_array)\n",
        "    #print(img_array.shape)\n",
        "    #plt.imshow(img_array)\n",
        "    img_resized = resize(img_array,(150,150,3))   # It automatically also normalizez the values b/w 0 to 1\n",
        "    flat_data.append(img_resized.flatten())\n",
        "    images.append(img_resized)\n",
        "    target.append(class_num)\n",
        "\n",
        "flat_data = np.array(flat_data)\n",
        "target = np.array(target)\n",
        "images = np.array(images)"
      ],
      "execution_count": 46,
      "outputs": [
        {
          "output_type": "stream",
          "text": [
            "time: 3min 54s (started: 2021-05-24 13:39:53 +00:00)\n"
          ],
          "name": "stdout"
        }
      ]
    },
    {
      "cell_type": "code",
      "metadata": {
        "colab": {
          "base_uri": "https://localhost:8080/"
        },
        "id": "YghE_2DLX_Kr",
        "outputId": "17f77235-20a9-4753-d8ab-e99ebc2c69a5"
      },
      "source": [
        "flat_data[0]"
      ],
      "execution_count": 47,
      "outputs": [
        {
          "output_type": "execute_result",
          "data": {
            "text/plain": [
              "array([0.98562092, 0.98562092, 0.98562092, ..., 0.99266667, 0.99266667,\n",
              "       0.99266667])"
            ]
          },
          "metadata": {
            "tags": []
          },
          "execution_count": 47
        },
        {
          "output_type": "stream",
          "text": [
            "time: 5.43 ms (started: 2021-05-24 13:44:16 +00:00)\n"
          ],
          "name": "stdout"
        }
      ]
    },
    {
      "cell_type": "code",
      "metadata": {
        "colab": {
          "base_uri": "https://localhost:8080/"
        },
        "id": "mtrDym7nYImG",
        "outputId": "f1f07c5e-68d4-457a-c442-1ddd16f4fb96"
      },
      "source": [
        "len(flat_data[0])"
      ],
      "execution_count": 48,
      "outputs": [
        {
          "output_type": "execute_result",
          "data": {
            "text/plain": [
              "67500"
            ]
          },
          "metadata": {
            "tags": []
          },
          "execution_count": 48
        },
        {
          "output_type": "stream",
          "text": [
            "time: 3.48 ms (started: 2021-05-24 13:44:19 +00:00)\n"
          ],
          "name": "stdout"
        }
      ]
    },
    {
      "cell_type": "code",
      "metadata": {
        "colab": {
          "base_uri": "https://localhost:8080/"
        },
        "id": "Hba0taY8YNlq",
        "outputId": "68853f71-005f-4eb6-df8b-d9004df01086"
      },
      "source": [
        "150*150*3"
      ],
      "execution_count": 49,
      "outputs": [
        {
          "output_type": "execute_result",
          "data": {
            "text/plain": [
              "67500"
            ]
          },
          "metadata": {
            "tags": []
          },
          "execution_count": 49
        },
        {
          "output_type": "stream",
          "text": [
            "time: 4.45 ms (started: 2021-05-24 13:44:23 +00:00)\n"
          ],
          "name": "stdout"
        }
      ]
    },
    {
      "cell_type": "code",
      "metadata": {
        "colab": {
          "base_uri": "https://localhost:8080/"
        },
        "id": "wqxxIAakYN6k",
        "outputId": "8517e85b-fa61-4328-a6b2-1604f47a09d2"
      },
      "source": [
        "target"
      ],
      "execution_count": 50,
      "outputs": [
        {
          "output_type": "execute_result",
          "data": {
            "text/plain": [
              "array([0, 0, 0, 0, 0, 0, 0, 0, 0, 0, 0, 0, 0, 0, 0, 0, 0, 0, 0, 0, 0, 0,\n",
              "       0, 0, 0, 0, 0, 0, 0, 0, 0, 0, 0, 0, 0, 0, 0, 0, 0, 0, 0, 0, 0, 0,\n",
              "       0, 0, 1, 1, 1, 1, 1, 1, 1, 1, 1, 1, 1, 1, 1, 1, 1, 1, 1, 1, 1, 1,\n",
              "       1, 1, 1, 1, 1, 1, 1, 1, 1, 1, 1, 1, 1, 1, 1, 1, 1, 1, 1, 1, 1, 1,\n",
              "       1, 1, 1, 2, 2, 2, 2, 2, 2, 2, 2, 2, 2, 2, 2, 2, 2, 2, 2, 2, 2, 2,\n",
              "       2, 2, 2, 2, 2, 2, 2, 2, 2, 2, 2, 2, 2, 2, 2, 2, 2, 2, 2, 2, 2, 2,\n",
              "       2, 2, 2, 2, 2, 2])"
            ]
          },
          "metadata": {
            "tags": []
          },
          "execution_count": 50
        },
        {
          "output_type": "stream",
          "text": [
            "time: 4.21 ms (started: 2021-05-24 13:44:25 +00:00)\n"
          ],
          "name": "stdout"
        }
      ]
    },
    {
      "cell_type": "code",
      "metadata": {
        "colab": {
          "base_uri": "https://localhost:8080/",
          "height": 300
        },
        "id": "TPourBzAYPnV",
        "outputId": "5fbdcc5d-1e68-4eec-88d8-b86e3349a945"
      },
      "source": [
        "unique,count = np.unique(target,return_counts=True)\n",
        "plt.bar(CATEGORIES,count)"
      ],
      "execution_count": 51,
      "outputs": [
        {
          "output_type": "execute_result",
          "data": {
            "text/plain": [
              "<BarContainer object of 3 artists>"
            ]
          },
          "metadata": {
            "tags": []
          },
          "execution_count": 51
        },
        {
          "output_type": "display_data",
          "data": {
            "image/png": "[encoded data removed]",
            "text/plain": [
              "<Figure size 432x288 with 1 Axes>"
            ]
          },
          "metadata": {
            "tags": [],
            "needs_background": "light"
          }
        },
        {
          "output_type": "stream",
          "text": [
            "time: 144 ms (started: 2021-05-24 13:44:28 +00:00)\n"
          ],
          "name": "stdout"
        }
      ]
    },
    {
      "cell_type": "code",
      "metadata": {
        "colab": {
          "base_uri": "https://localhost:8080/"
        },
        "id": "tyfGLRx0YRbA",
        "outputId": "702cc6de-70b3-4f10-c535-e51638750934"
      },
      "source": [
        "# Split the data into training and testing data\n",
        "\n",
        "from sklearn.model_selection import train_test_split\n",
        "x_train,x_test,y_train,y_test = train_test_split(flat_data,target,test_size=0.3,random_state=109)"
      ],
      "execution_count": 52,
      "outputs": [
        {
          "output_type": "stream",
          "text": [
            "time: 31 ms (started: 2021-05-24 13:44:32 +00:00)\n"
          ],
          "name": "stdout"
        }
      ]
    },
    {
      "cell_type": "code",
      "metadata": {
        "colab": {
          "base_uri": "https://localhost:8080/"
        },
        "id": "gIeytcQWYTm0",
        "outputId": "a9ecc3f4-f86a-45d8-d7e2-ecb16fe42c2e"
      },
      "source": [
        "from sklearn.model_selection import GridSearchCV\n",
        "from sklearn import svm\n",
        "\n",
        "param_grid = [\n",
        "              {'C':[1,10,100,1000],'kernel':['linear']},\n",
        "              {'C':[1,10,100,1000],'gamma':[0.001,0.0001],'kernel':['rbf']}\n",
        "]\n",
        "\n",
        "svc = svm.SVC(probability=True)\n",
        "clf = GridSearchCV(svc,param_grid)\n",
        "clf.fit(x_train,y_train)"
      ],
      "execution_count": 53,
      "outputs": [
        {
          "output_type": "execute_result",
          "data": {
            "text/plain": [
              "GridSearchCV(cv=None, error_score=nan,\n",
              "             estimator=SVC(C=1.0, break_ties=False, cache_size=200,\n",
              "                           class_weight=None, coef0=0.0,\n",
              "                           decision_function_shape='ovr', degree=3,\n",
              "                           gamma='scale', kernel='rbf', max_iter=-1,\n",
              "                           probability=True, random_state=None, shrinking=True,\n",
              "                           tol=0.001, verbose=False),\n",
              "             iid='deprecated', n_jobs=None,\n",
              "             param_grid=[{'C': [1, 10, 100, 1000], 'kernel': ['linear']},\n",
              "                         {'C': [1, 10, 100, 1000], 'gamma': [0.001, 0.0001],\n",
              "                          'kernel': ['rbf']}],\n",
              "             pre_dispatch='2*n_jobs', refit=True, return_train_score=False,\n",
              "             scoring=None, verbose=0)"
            ]
          },
          "metadata": {
            "tags": []
          },
          "execution_count": 53
        },
        {
          "output_type": "stream",
          "text": [
            "time: 4min 22s (started: 2021-05-24 13:44:36 +00:00)\n"
          ],
          "name": "stdout"
        }
      ]
    },
    {
      "cell_type": "code",
      "metadata": {
        "colab": {
          "base_uri": "https://localhost:8080/"
        },
        "id": "U-vkFRXtYVKh",
        "outputId": "1ba595fb-2024-4db1-9e06-ecc939b23be8"
      },
      "source": [
        "y_pred = clf.predict(x_test)\n",
        "y_pred"
      ],
      "execution_count": 54,
      "outputs": [
        {
          "output_type": "execute_result",
          "data": {
            "text/plain": [
              "array([2, 1, 0, 1, 2, 1, 1, 0, 2, 2, 1, 1, 2, 2, 2, 2, 2, 0, 2, 0, 2, 2,\n",
              "       0, 1, 1, 2, 2, 1, 1, 0, 1, 2, 2, 0, 1, 0, 0, 1, 2, 2, 2, 0])"
            ]
          },
          "metadata": {
            "tags": []
          },
          "execution_count": 54
        },
        {
          "output_type": "stream",
          "text": [
            "time: 404 ms (started: 2021-05-24 13:49:31 +00:00)\n"
          ],
          "name": "stdout"
        }
      ]
    },
    {
      "cell_type": "code",
      "metadata": {
        "colab": {
          "base_uri": "https://localhost:8080/"
        },
        "id": "iGPrEX46YXlN",
        "outputId": "a6becc99-92cd-4b37-ab93-71a0d70ae4a9"
      },
      "source": [
        "y_test"
      ],
      "execution_count": 55,
      "outputs": [
        {
          "output_type": "execute_result",
          "data": {
            "text/plain": [
              "array([2, 1, 0, 1, 2, 1, 1, 0, 2, 2, 0, 1, 2, 2, 0, 2, 2, 0, 2, 0, 2, 2,\n",
              "       0, 1, 1, 2, 1, 1, 1, 1, 1, 2, 0, 0, 1, 0, 0, 1, 2, 2, 1, 0])"
            ]
          },
          "metadata": {
            "tags": []
          },
          "execution_count": 55
        },
        {
          "output_type": "stream",
          "text": [
            "time: 6.91 ms (started: 2021-05-24 13:49:33 +00:00)\n"
          ],
          "name": "stdout"
        }
      ]
    },
    {
      "cell_type": "code",
      "metadata": {
        "colab": {
          "base_uri": "https://localhost:8080/"
        },
        "id": "ogWy81G5YZPF",
        "outputId": "aa09ed1d-50b6-43e9-a9f3-6002fb538af0"
      },
      "source": [
        "from sklearn.metrics import accuracy_score,confusion_matrix"
      ],
      "execution_count": 56,
      "outputs": [
        {
          "output_type": "stream",
          "text": [
            "time: 863 µs (started: 2021-05-24 13:49:36 +00:00)\n"
          ],
          "name": "stdout"
        }
      ]
    },
    {
      "cell_type": "code",
      "metadata": {
        "colab": {
          "base_uri": "https://localhost:8080/"
        },
        "id": "ofODQuTPYazx",
        "outputId": "4d7da678-8090-45e5-afb3-4b2f3351406b"
      },
      "source": [
        "accuracy_score(y_pred,y_test)"
      ],
      "execution_count": 57,
      "outputs": [
        {
          "output_type": "execute_result",
          "data": {
            "text/plain": [
              "0.8571428571428571"
            ]
          },
          "metadata": {
            "tags": []
          },
          "execution_count": 57
        },
        {
          "output_type": "stream",
          "text": [
            "time: 5.29 ms (started: 2021-05-24 13:49:38 +00:00)\n"
          ],
          "name": "stdout"
        }
      ]
    },
    {
      "cell_type": "code",
      "metadata": {
        "colab": {
          "base_uri": "https://localhost:8080/"
        },
        "id": "7n26P7CiYcKc",
        "outputId": "8727b965-7489-48d3-8af3-b2054510af73"
      },
      "source": [
        "confusion_matrix(y_pred,y_test)"
      ],
      "execution_count": 58,
      "outputs": [
        {
          "output_type": "execute_result",
          "data": {
            "text/plain": [
              "array([[ 9,  1,  0],\n",
              "       [ 1, 12,  0],\n",
              "       [ 2,  2, 15]])"
            ]
          },
          "metadata": {
            "tags": []
          },
          "execution_count": 58
        },
        {
          "output_type": "stream",
          "text": [
            "time: 6.21 ms (started: 2021-05-24 13:49:41 +00:00)\n"
          ],
          "name": "stdout"
        }
      ]
    },
    {
      "cell_type": "code",
      "metadata": {
        "colab": {
          "base_uri": "https://localhost:8080/"
        },
        "id": "3UCb97l-YefP",
        "outputId": "6583c83f-79e0-4a68-a10b-289ba4ea3fee"
      },
      "source": [
        "# Save the model using the Pickle library\n",
        "import pickle\n",
        "pickle.dump(clf,open('img_model.p','wb'))    # wb: writing the byte"
      ],
      "execution_count": 59,
      "outputs": [
        {
          "output_type": "stream",
          "text": [
            "time: 98.5 ms (started: 2021-05-24 13:49:46 +00:00)\n"
          ],
          "name": "stdout"
        }
      ]
    },
    {
      "cell_type": "code",
      "metadata": {
        "colab": {
          "base_uri": "https://localhost:8080/"
        },
        "id": "mPF5H6cTYfBJ",
        "outputId": "e945857d-8e50-4fa7-dc4a-b709c99f2e8b"
      },
      "source": [
        "model = pickle.load(open('img_model.p','rb'))  # rb: reading the byte"
      ],
      "execution_count": 60,
      "outputs": [
        {
          "output_type": "stream",
          "text": [
            "time: 28.1 ms (started: 2021-05-24 13:49:49 +00:00)\n"
          ],
          "name": "stdout"
        }
      ]
    },
    {
      "cell_type": "code",
      "metadata": {
        "colab": {
          "base_uri": "https://localhost:8080/",
          "height": 427
        },
        "id": "scHDGs2kYhiC",
        "outputId": "858c0cf3-2844-4d8e-d4a0-7337a707f73d"
      },
      "source": [
        "# testing a brand new image\n",
        "flat_data = []\n",
        "url = input('Enter your URL: ')\n",
        "img = imread(url)\n",
        "img_resized = resize(img,(150,150,3))\n",
        "flat_data.append(img_resized.flatten())\n",
        "flat_data = np.array(flat_data)\n",
        "print(img.shape)\n",
        "plt.imshow(img_resized)\n",
        "y_out = model.predict(flat_data)\n",
        "y_out = CATEGORIES[y_out[0]]\n",
        "print(f'PREDICTED OUTPUT:{y_out}\\n')\n",
        "q = model.predict_proba(flat_data)\n",
        "print('Here are the individual Prediction in percentage form: ')\n",
        "for index,item in enumerate(CATEGORIES):\n",
        "  print(f'{item} : {q[0][index]*100}')"
      ],
      "execution_count": 74,
      "outputs": [
        {
          "output_type": "stream",
          "text": [
            "Enter your URL: https://images.unsplash.com/photo-1552519507-da3b142c6e3d?ixid=MnwxMjA3fDB8MHxzZWFyY2h8Mnx8Y2Fyc3xlbnwwfHwwfHw%3D&ixlib=rb-1.2.1&w=1000&q=80\n",
            "(667, 1000, 3)\n",
            "PREDICTED OUTPUT:cars\n",
            "\n",
            "Here are the individual Prediction in percentage form: \n",
            "cars : 94.41593006960161\n",
            "dogs : 3.9505933713250223\n",
            "ships : 1.633476559073347\n"
          ],
          "name": "stdout"
        },
        {
          "output_type": "display_data",
          "data": {
            "image/png": "[encoded data removed]",
            "text/plain": [
              "<Figure size 432x288 with 1 Axes>"
            ]
          },
          "metadata": {
            "tags": [],
            "needs_background": "light"
          }
        },
        {
          "output_type": "stream",
          "text": [
            "time: 6.28 s (started: 2021-05-24 14:01:58 +00:00)\n"
          ],
          "name": "stdout"
        }
      ]
    },
    {
      "cell_type": "code",
      "metadata": {
        "id": "CMbu6Ft5rOgK"
      },
      "source": [
        ""
      ],
      "execution_count": null,
      "outputs": []
    }
  ]
}